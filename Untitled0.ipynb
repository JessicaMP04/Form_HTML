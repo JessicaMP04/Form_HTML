{
  "nbformat": 4,
  "nbformat_minor": 0,
  "metadata": {
    "colab": {
      "provenance": [],
      "authorship_tag": "ABX9TyM2j5ycJgJMKs/JwTLKGCCD",
      "include_colab_link": true
    },
    "kernelspec": {
      "name": "python3",
      "display_name": "Python 3"
    },
    "language_info": {
      "name": "python"
    }
  },
  "cells": [
    {
      "cell_type": "markdown",
      "metadata": {
        "id": "view-in-github",
        "colab_type": "text"
      },
      "source": [
        "<a href=\"https://colab.research.google.com/github/JessicaMP04/Form_HTML/blob/main/Untitled0.ipynb\" target=\"_parent\"><img src=\"https://colab.research.google.com/assets/colab-badge.svg\" alt=\"Open In Colab\"/></a>"
      ]
    },
    {
      "cell_type": "code",
      "source": [
        "mail = input(\"Ingrese su correo electrónico: \")\n",
        "while True:\n",
        "  if \" \" in mail:\n",
        "    print(\"El correo electrónico no puede contener espacios\")\n",
        "    mail = input(\"Ingrese su correo electrónico nuevamente: \")\n",
        "  elif mail.count(\"@\") != 1:\n",
        "    print(\"El correo electrónico debe contener solo un @\")\n",
        "    mail = input(\"Ingrese su correo electrónico nuevamente: \")\n",
        "  else:\n",
        "    print(\"Correo electrónico válido\", mail)\n",
        "    break"
      ],
      "metadata": {
        "colab": {
          "base_uri": "https://localhost:8080/"
        },
        "id": "fFDN0Glu4lXM",
        "outputId": "736f49e4-aa89-412a-cf5a-fbc86515798c"
      },
      "execution_count": 8,
      "outputs": [
        {
          "output_type": "stream",
          "name": "stdout",
          "text": [
            "Ingrese su correo electrónico: Mika04.mpgmail.com\n",
            "El correo electrónico debe contener solo un @\n",
            "Ingrese su correo electrónico nuevamente: Mika04.mp@g mail.com\n",
            "El correo electrónico no puede contener espacios\n",
            "Ingrese su correo electrónico nuevamente: Mika04.mp@gmail.com\n",
            "Correo electrónico válido Mika04.mp@gmail.com\n"
          ]
        }
      ]
    },
    {
      "cell_type": "code",
      "metadata": {
        "id": "a262bed0"
      },
      "source": [
        "# Función para formatear nombres y apellidos\n",
        "def format_name(name):\n",
        "    return ' '.join(word.capitalize() for word in name.split())\n",
        "\n",
        "# Aplicar la función a las columnas 'nombre' y 'apellido'\n",
        "# Asegúrate de que tu DataFrame (df) esté cargado antes de ejecutar este código\n",
        "if 'df' in locals() and df is not None:\n",
        "    if 'nombre' in df.columns:\n",
        "        df['nombre'] = df['nombre'].apply(format_name)\n",
        "    else:\n",
        "        print(\"Advertencia: La columna 'nombre' no se encuentra en el DataFrame.\")\n",
        "\n",
        "    if 'apellido' in df.columns:\n",
        "        df['apellido'] = df['apellido'].apply(format_name)\n",
        "    else:\n",
        "        print(\"Advertencia: La columna 'apellido' no se encuentra en el DataFrame.\")\n",
        "\n",
        "    print(\"\\nNombres y apellidos formateados:\")\n",
        "    display(df.head())\n",
        "else:\n",
        "    print(\"Error: El DataFrame no está cargado. Por favor, ejecuta primero la celda de carga de datos.\")"
      ],
      "execution_count": null,
      "outputs": []
    }
  ]
}